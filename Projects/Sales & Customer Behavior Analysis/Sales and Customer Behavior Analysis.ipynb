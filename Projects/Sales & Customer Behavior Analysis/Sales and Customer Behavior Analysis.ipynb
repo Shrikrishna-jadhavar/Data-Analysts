{
 "cells": [
  {
   "cell_type": "code",
   "execution_count": 1,
   "id": "ce46d11c-95b7-4e7c-8da9-a2ea7e4ca67e",
   "metadata": {},
   "outputs": [],
   "source": [
    "#inpomrt libraries \n",
    "import pandas as pd\n",
    "import seaborn as sns\n",
    "import matplotlib.pyplot as plt\n",
    "import numpy as np\n",
    "%matplotlib inline"
   ]
  },
  {
   "cell_type": "code",
   "execution_count": 2,
   "id": "93e74aef-3b57-444a-b8fd-07dbe9a9e50c",
   "metadata": {},
   "outputs": [],
   "source": [
    "file_path = r\"C:\\Users\\adity\\Desktop\\IANT PYTHON\\Task first\\Sales and Customer Behavior Analysis\\Sales_Customer_Behavior_Dataset.csv\"\n",
    "# Read the CSV file with the specified encoding\n",
    "df = pd.read_csv(file_path, encoding='unicode_escape')"
   ]
  },
  {
   "cell_type": "code",
   "execution_count": 3,
   "id": "9ff4de6c-119e-4925-8e9b-a97a14797011",
   "metadata": {},
   "outputs": [
    {
     "data": {
      "text/html": [
       "<div>\n",
       "<style scoped>\n",
       "    .dataframe tbody tr th:only-of-type {\n",
       "        vertical-align: middle;\n",
       "    }\n",
       "\n",
       "    .dataframe tbody tr th {\n",
       "        vertical-align: top;\n",
       "    }\n",
       "\n",
       "    .dataframe thead th {\n",
       "        text-align: right;\n",
       "    }\n",
       "</style>\n",
       "<table border=\"1\" class=\"dataframe\">\n",
       "  <thead>\n",
       "    <tr style=\"text-align: right;\">\n",
       "      <th></th>\n",
       "      <th>Customer_ID</th>\n",
       "      <th>Name</th>\n",
       "      <th>Age</th>\n",
       "      <th>Gender</th>\n",
       "      <th>Location</th>\n",
       "      <th>Product_Category</th>\n",
       "      <th>Purchase_Amount</th>\n",
       "      <th>Purchase_Date</th>\n",
       "      <th>Loyalty_Points</th>\n",
       "      <th>Website_Visits</th>\n",
       "      <th>Preferred_Payment_Method</th>\n",
       "    </tr>\n",
       "  </thead>\n",
       "  <tbody>\n",
       "    <tr>\n",
       "      <th>0</th>\n",
       "      <td>CUST1000</td>\n",
       "      <td>Customer_0</td>\n",
       "      <td>64</td>\n",
       "      <td>Male</td>\n",
       "      <td>North</td>\n",
       "      <td>Toys</td>\n",
       "      <td>301.40</td>\n",
       "      <td>2024-12-01</td>\n",
       "      <td>271</td>\n",
       "      <td>39</td>\n",
       "      <td>Debit Card</td>\n",
       "    </tr>\n",
       "    <tr>\n",
       "      <th>1</th>\n",
       "      <td>CUST1001</td>\n",
       "      <td>Customer_1</td>\n",
       "      <td>37</td>\n",
       "      <td>Male</td>\n",
       "      <td>East</td>\n",
       "      <td>Electronics</td>\n",
       "      <td>150.69</td>\n",
       "      <td>2024-12-24</td>\n",
       "      <td>503</td>\n",
       "      <td>10</td>\n",
       "      <td>Net Banking</td>\n",
       "    </tr>\n",
       "    <tr>\n",
       "      <th>2</th>\n",
       "      <td>CUST1002</td>\n",
       "      <td>Customer_2</td>\n",
       "      <td>27</td>\n",
       "      <td>Male</td>\n",
       "      <td>East</td>\n",
       "      <td>Fashion</td>\n",
       "      <td>449.15</td>\n",
       "      <td>2024-09-13</td>\n",
       "      <td>482</td>\n",
       "      <td>42</td>\n",
       "      <td>UPI</td>\n",
       "    </tr>\n",
       "    <tr>\n",
       "      <th>3</th>\n",
       "      <td>CUST1003</td>\n",
       "      <td>Customer_3</td>\n",
       "      <td>36</td>\n",
       "      <td>Male</td>\n",
       "      <td>East</td>\n",
       "      <td>Beauty</td>\n",
       "      <td>356.97</td>\n",
       "      <td>2024-01-02</td>\n",
       "      <td>412</td>\n",
       "      <td>49</td>\n",
       "      <td>Cash</td>\n",
       "    </tr>\n",
       "    <tr>\n",
       "      <th>4</th>\n",
       "      <td>CUST1004</td>\n",
       "      <td>Customer_4</td>\n",
       "      <td>59</td>\n",
       "      <td>Female</td>\n",
       "      <td>East</td>\n",
       "      <td>Toys</td>\n",
       "      <td>257.52</td>\n",
       "      <td>2024-08-30</td>\n",
       "      <td>136</td>\n",
       "      <td>40</td>\n",
       "      <td>Debit Card</td>\n",
       "    </tr>\n",
       "    <tr>\n",
       "      <th>...</th>\n",
       "      <td>...</td>\n",
       "      <td>...</td>\n",
       "      <td>...</td>\n",
       "      <td>...</td>\n",
       "      <td>...</td>\n",
       "      <td>...</td>\n",
       "      <td>...</td>\n",
       "      <td>...</td>\n",
       "      <td>...</td>\n",
       "      <td>...</td>\n",
       "      <td>...</td>\n",
       "    </tr>\n",
       "    <tr>\n",
       "      <th>4995</th>\n",
       "      <td>CUST5995</td>\n",
       "      <td>Customer_4995</td>\n",
       "      <td>66</td>\n",
       "      <td>Female</td>\n",
       "      <td>South</td>\n",
       "      <td>Beauty</td>\n",
       "      <td>238.14</td>\n",
       "      <td>2024-09-12</td>\n",
       "      <td>357</td>\n",
       "      <td>13</td>\n",
       "      <td>Credit Card</td>\n",
       "    </tr>\n",
       "    <tr>\n",
       "      <th>4996</th>\n",
       "      <td>CUST5996</td>\n",
       "      <td>Customer_4996</td>\n",
       "      <td>44</td>\n",
       "      <td>Female</td>\n",
       "      <td>South</td>\n",
       "      <td>Toys</td>\n",
       "      <td>311.76</td>\n",
       "      <td>2024-05-03</td>\n",
       "      <td>229</td>\n",
       "      <td>4</td>\n",
       "      <td>Debit Card</td>\n",
       "    </tr>\n",
       "    <tr>\n",
       "      <th>4997</th>\n",
       "      <td>CUST5997</td>\n",
       "      <td>Customer_4997</td>\n",
       "      <td>42</td>\n",
       "      <td>Female</td>\n",
       "      <td>North</td>\n",
       "      <td>Beauty</td>\n",
       "      <td>59.09</td>\n",
       "      <td>2024-07-20</td>\n",
       "      <td>262</td>\n",
       "      <td>46</td>\n",
       "      <td>Cash</td>\n",
       "    </tr>\n",
       "    <tr>\n",
       "      <th>4998</th>\n",
       "      <td>CUST5998</td>\n",
       "      <td>Customer_4998</td>\n",
       "      <td>68</td>\n",
       "      <td>Male</td>\n",
       "      <td>East</td>\n",
       "      <td>Fashion</td>\n",
       "      <td>354.23</td>\n",
       "      <td>2024-07-12</td>\n",
       "      <td>782</td>\n",
       "      <td>2</td>\n",
       "      <td>Debit Card</td>\n",
       "    </tr>\n",
       "    <tr>\n",
       "      <th>4999</th>\n",
       "      <td>CUST5999</td>\n",
       "      <td>Customer_4999</td>\n",
       "      <td>36</td>\n",
       "      <td>Female</td>\n",
       "      <td>West</td>\n",
       "      <td>Electronics</td>\n",
       "      <td>467.89</td>\n",
       "      <td>2024-07-28</td>\n",
       "      <td>105</td>\n",
       "      <td>43</td>\n",
       "      <td>Credit Card</td>\n",
       "    </tr>\n",
       "  </tbody>\n",
       "</table>\n",
       "<p>5000 rows × 11 columns</p>\n",
       "</div>"
      ],
      "text/plain": [
       "     Customer_ID           Name  Age  Gender Location Product_Category  \\\n",
       "0       CUST1000     Customer_0   64    Male    North             Toys   \n",
       "1       CUST1001     Customer_1   37    Male     East      Electronics   \n",
       "2       CUST1002     Customer_2   27    Male     East          Fashion   \n",
       "3       CUST1003     Customer_3   36    Male     East           Beauty   \n",
       "4       CUST1004     Customer_4   59  Female     East             Toys   \n",
       "...          ...            ...  ...     ...      ...              ...   \n",
       "4995    CUST5995  Customer_4995   66  Female    South           Beauty   \n",
       "4996    CUST5996  Customer_4996   44  Female    South             Toys   \n",
       "4997    CUST5997  Customer_4997   42  Female    North           Beauty   \n",
       "4998    CUST5998  Customer_4998   68    Male     East          Fashion   \n",
       "4999    CUST5999  Customer_4999   36  Female     West      Electronics   \n",
       "\n",
       "      Purchase_Amount Purchase_Date  Loyalty_Points  Website_Visits  \\\n",
       "0              301.40    2024-12-01             271              39   \n",
       "1              150.69    2024-12-24             503              10   \n",
       "2              449.15    2024-09-13             482              42   \n",
       "3              356.97    2024-01-02             412              49   \n",
       "4              257.52    2024-08-30             136              40   \n",
       "...               ...           ...             ...             ...   \n",
       "4995           238.14    2024-09-12             357              13   \n",
       "4996           311.76    2024-05-03             229               4   \n",
       "4997            59.09    2024-07-20             262              46   \n",
       "4998           354.23    2024-07-12             782               2   \n",
       "4999           467.89    2024-07-28             105              43   \n",
       "\n",
       "     Preferred_Payment_Method  \n",
       "0                  Debit Card  \n",
       "1                 Net Banking  \n",
       "2                         UPI  \n",
       "3                        Cash  \n",
       "4                  Debit Card  \n",
       "...                       ...  \n",
       "4995              Credit Card  \n",
       "4996               Debit Card  \n",
       "4997                     Cash  \n",
       "4998               Debit Card  \n",
       "4999              Credit Card  \n",
       "\n",
       "[5000 rows x 11 columns]"
      ]
     },
     "execution_count": 3,
     "metadata": {},
     "output_type": "execute_result"
    }
   ],
   "source": [
    "df"
   ]
  },
  {
   "cell_type": "code",
   "execution_count": 4,
   "id": "88ff5ee4-55dd-48bf-812e-42ace85c2666",
   "metadata": {},
   "outputs": [
    {
     "data": {
      "text/html": [
       "<div>\n",
       "<style scoped>\n",
       "    .dataframe tbody tr th:only-of-type {\n",
       "        vertical-align: middle;\n",
       "    }\n",
       "\n",
       "    .dataframe tbody tr th {\n",
       "        vertical-align: top;\n",
       "    }\n",
       "\n",
       "    .dataframe thead th {\n",
       "        text-align: right;\n",
       "    }\n",
       "</style>\n",
       "<table border=\"1\" class=\"dataframe\">\n",
       "  <thead>\n",
       "    <tr style=\"text-align: right;\">\n",
       "      <th></th>\n",
       "      <th>Customer_ID</th>\n",
       "      <th>Name</th>\n",
       "      <th>Age</th>\n",
       "      <th>Gender</th>\n",
       "      <th>Location</th>\n",
       "      <th>Product_Category</th>\n",
       "      <th>Purchase_Amount</th>\n",
       "      <th>Purchase_Date</th>\n",
       "      <th>Loyalty_Points</th>\n",
       "      <th>Website_Visits</th>\n",
       "      <th>Preferred_Payment_Method</th>\n",
       "    </tr>\n",
       "  </thead>\n",
       "  <tbody>\n",
       "    <tr>\n",
       "      <th>0</th>\n",
       "      <td>CUST1000</td>\n",
       "      <td>Customer_0</td>\n",
       "      <td>64</td>\n",
       "      <td>Male</td>\n",
       "      <td>North</td>\n",
       "      <td>Toys</td>\n",
       "      <td>301.40</td>\n",
       "      <td>2024-12-01</td>\n",
       "      <td>271</td>\n",
       "      <td>39</td>\n",
       "      <td>Debit Card</td>\n",
       "    </tr>\n",
       "    <tr>\n",
       "      <th>1</th>\n",
       "      <td>CUST1001</td>\n",
       "      <td>Customer_1</td>\n",
       "      <td>37</td>\n",
       "      <td>Male</td>\n",
       "      <td>East</td>\n",
       "      <td>Electronics</td>\n",
       "      <td>150.69</td>\n",
       "      <td>2024-12-24</td>\n",
       "      <td>503</td>\n",
       "      <td>10</td>\n",
       "      <td>Net Banking</td>\n",
       "    </tr>\n",
       "    <tr>\n",
       "      <th>2</th>\n",
       "      <td>CUST1002</td>\n",
       "      <td>Customer_2</td>\n",
       "      <td>27</td>\n",
       "      <td>Male</td>\n",
       "      <td>East</td>\n",
       "      <td>Fashion</td>\n",
       "      <td>449.15</td>\n",
       "      <td>2024-09-13</td>\n",
       "      <td>482</td>\n",
       "      <td>42</td>\n",
       "      <td>UPI</td>\n",
       "    </tr>\n",
       "    <tr>\n",
       "      <th>3</th>\n",
       "      <td>CUST1003</td>\n",
       "      <td>Customer_3</td>\n",
       "      <td>36</td>\n",
       "      <td>Male</td>\n",
       "      <td>East</td>\n",
       "      <td>Beauty</td>\n",
       "      <td>356.97</td>\n",
       "      <td>2024-01-02</td>\n",
       "      <td>412</td>\n",
       "      <td>49</td>\n",
       "      <td>Cash</td>\n",
       "    </tr>\n",
       "    <tr>\n",
       "      <th>4</th>\n",
       "      <td>CUST1004</td>\n",
       "      <td>Customer_4</td>\n",
       "      <td>59</td>\n",
       "      <td>Female</td>\n",
       "      <td>East</td>\n",
       "      <td>Toys</td>\n",
       "      <td>257.52</td>\n",
       "      <td>2024-08-30</td>\n",
       "      <td>136</td>\n",
       "      <td>40</td>\n",
       "      <td>Debit Card</td>\n",
       "    </tr>\n",
       "  </tbody>\n",
       "</table>\n",
       "</div>"
      ],
      "text/plain": [
       "  Customer_ID        Name  Age  Gender Location Product_Category  \\\n",
       "0    CUST1000  Customer_0   64    Male    North             Toys   \n",
       "1    CUST1001  Customer_1   37    Male     East      Electronics   \n",
       "2    CUST1002  Customer_2   27    Male     East          Fashion   \n",
       "3    CUST1003  Customer_3   36    Male     East           Beauty   \n",
       "4    CUST1004  Customer_4   59  Female     East             Toys   \n",
       "\n",
       "   Purchase_Amount Purchase_Date  Loyalty_Points  Website_Visits  \\\n",
       "0           301.40    2024-12-01             271              39   \n",
       "1           150.69    2024-12-24             503              10   \n",
       "2           449.15    2024-09-13             482              42   \n",
       "3           356.97    2024-01-02             412              49   \n",
       "4           257.52    2024-08-30             136              40   \n",
       "\n",
       "  Preferred_Payment_Method  \n",
       "0               Debit Card  \n",
       "1              Net Banking  \n",
       "2                      UPI  \n",
       "3                     Cash  \n",
       "4               Debit Card  "
      ]
     },
     "execution_count": 4,
     "metadata": {},
     "output_type": "execute_result"
    }
   ],
   "source": [
    "df.head()"
   ]
  },
  {
   "cell_type": "code",
   "execution_count": 5,
   "id": "8f32c4ff-8e67-4407-9de4-a17c2df334a1",
   "metadata": {},
   "outputs": [
    {
     "data": {
      "text/html": [
       "<div>\n",
       "<style scoped>\n",
       "    .dataframe tbody tr th:only-of-type {\n",
       "        vertical-align: middle;\n",
       "    }\n",
       "\n",
       "    .dataframe tbody tr th {\n",
       "        vertical-align: top;\n",
       "    }\n",
       "\n",
       "    .dataframe thead th {\n",
       "        text-align: right;\n",
       "    }\n",
       "</style>\n",
       "<table border=\"1\" class=\"dataframe\">\n",
       "  <thead>\n",
       "    <tr style=\"text-align: right;\">\n",
       "      <th></th>\n",
       "      <th>Customer_ID</th>\n",
       "      <th>Name</th>\n",
       "      <th>Age</th>\n",
       "      <th>Gender</th>\n",
       "      <th>Location</th>\n",
       "      <th>Product_Category</th>\n",
       "      <th>Purchase_Amount</th>\n",
       "      <th>Purchase_Date</th>\n",
       "      <th>Loyalty_Points</th>\n",
       "      <th>Website_Visits</th>\n",
       "      <th>Preferred_Payment_Method</th>\n",
       "    </tr>\n",
       "  </thead>\n",
       "  <tbody>\n",
       "    <tr>\n",
       "      <th>4995</th>\n",
       "      <td>CUST5995</td>\n",
       "      <td>Customer_4995</td>\n",
       "      <td>66</td>\n",
       "      <td>Female</td>\n",
       "      <td>South</td>\n",
       "      <td>Beauty</td>\n",
       "      <td>238.14</td>\n",
       "      <td>2024-09-12</td>\n",
       "      <td>357</td>\n",
       "      <td>13</td>\n",
       "      <td>Credit Card</td>\n",
       "    </tr>\n",
       "    <tr>\n",
       "      <th>4996</th>\n",
       "      <td>CUST5996</td>\n",
       "      <td>Customer_4996</td>\n",
       "      <td>44</td>\n",
       "      <td>Female</td>\n",
       "      <td>South</td>\n",
       "      <td>Toys</td>\n",
       "      <td>311.76</td>\n",
       "      <td>2024-05-03</td>\n",
       "      <td>229</td>\n",
       "      <td>4</td>\n",
       "      <td>Debit Card</td>\n",
       "    </tr>\n",
       "    <tr>\n",
       "      <th>4997</th>\n",
       "      <td>CUST5997</td>\n",
       "      <td>Customer_4997</td>\n",
       "      <td>42</td>\n",
       "      <td>Female</td>\n",
       "      <td>North</td>\n",
       "      <td>Beauty</td>\n",
       "      <td>59.09</td>\n",
       "      <td>2024-07-20</td>\n",
       "      <td>262</td>\n",
       "      <td>46</td>\n",
       "      <td>Cash</td>\n",
       "    </tr>\n",
       "    <tr>\n",
       "      <th>4998</th>\n",
       "      <td>CUST5998</td>\n",
       "      <td>Customer_4998</td>\n",
       "      <td>68</td>\n",
       "      <td>Male</td>\n",
       "      <td>East</td>\n",
       "      <td>Fashion</td>\n",
       "      <td>354.23</td>\n",
       "      <td>2024-07-12</td>\n",
       "      <td>782</td>\n",
       "      <td>2</td>\n",
       "      <td>Debit Card</td>\n",
       "    </tr>\n",
       "    <tr>\n",
       "      <th>4999</th>\n",
       "      <td>CUST5999</td>\n",
       "      <td>Customer_4999</td>\n",
       "      <td>36</td>\n",
       "      <td>Female</td>\n",
       "      <td>West</td>\n",
       "      <td>Electronics</td>\n",
       "      <td>467.89</td>\n",
       "      <td>2024-07-28</td>\n",
       "      <td>105</td>\n",
       "      <td>43</td>\n",
       "      <td>Credit Card</td>\n",
       "    </tr>\n",
       "  </tbody>\n",
       "</table>\n",
       "</div>"
      ],
      "text/plain": [
       "     Customer_ID           Name  Age  Gender Location Product_Category  \\\n",
       "4995    CUST5995  Customer_4995   66  Female    South           Beauty   \n",
       "4996    CUST5996  Customer_4996   44  Female    South             Toys   \n",
       "4997    CUST5997  Customer_4997   42  Female    North           Beauty   \n",
       "4998    CUST5998  Customer_4998   68    Male     East          Fashion   \n",
       "4999    CUST5999  Customer_4999   36  Female     West      Electronics   \n",
       "\n",
       "      Purchase_Amount Purchase_Date  Loyalty_Points  Website_Visits  \\\n",
       "4995           238.14    2024-09-12             357              13   \n",
       "4996           311.76    2024-05-03             229               4   \n",
       "4997            59.09    2024-07-20             262              46   \n",
       "4998           354.23    2024-07-12             782               2   \n",
       "4999           467.89    2024-07-28             105              43   \n",
       "\n",
       "     Preferred_Payment_Method  \n",
       "4995              Credit Card  \n",
       "4996               Debit Card  \n",
       "4997                     Cash  \n",
       "4998               Debit Card  \n",
       "4999              Credit Card  "
      ]
     },
     "execution_count": 5,
     "metadata": {},
     "output_type": "execute_result"
    }
   ],
   "source": [
    "df.tail()"
   ]
  },
  {
   "cell_type": "code",
   "execution_count": 6,
   "id": "561a8345-ee4e-40a8-80d8-b4320e2232d5",
   "metadata": {},
   "outputs": [
    {
     "data": {
      "text/plain": [
       "(5000, 11)"
      ]
     },
     "execution_count": 6,
     "metadata": {},
     "output_type": "execute_result"
    }
   ],
   "source": [
    "df.shape "
   ]
  },
  {
   "cell_type": "code",
   "execution_count": 7,
   "id": "fd791e87-6cc1-43ab-bae1-8491c8365cf5",
   "metadata": {},
   "outputs": [
    {
     "data": {
      "text/plain": [
       "55000"
      ]
     },
     "execution_count": 7,
     "metadata": {},
     "output_type": "execute_result"
    }
   ],
   "source": [
    "df.size"
   ]
  },
  {
   "cell_type": "code",
   "execution_count": 8,
   "id": "e2a1a59f-2ee1-49cf-a824-c763ef37bf39",
   "metadata": {},
   "outputs": [
    {
     "data": {
      "text/plain": [
       "Index(['Customer_ID', 'Name', 'Age', 'Gender', 'Location', 'Product_Category',\n",
       "       'Purchase_Amount', 'Purchase_Date', 'Loyalty_Points', 'Website_Visits',\n",
       "       'Preferred_Payment_Method'],\n",
       "      dtype='object')"
      ]
     },
     "execution_count": 8,
     "metadata": {},
     "output_type": "execute_result"
    }
   ],
   "source": [
    "df.columns"
   ]
  },
  {
   "cell_type": "code",
   "execution_count": 9,
   "id": "69cf30f1-0b49-4a1c-8982-2d5c5c9066df",
   "metadata": {},
   "outputs": [
    {
     "data": {
      "text/plain": [
       "RangeIndex(start=0, stop=5000, step=1)"
      ]
     },
     "execution_count": 9,
     "metadata": {},
     "output_type": "execute_result"
    }
   ],
   "source": [
    "df.index"
   ]
  },
  {
   "cell_type": "code",
   "execution_count": 11,
   "id": "d84db319-9da7-4a88-91d3-3666028dd048",
   "metadata": {},
   "outputs": [
    {
     "name": "stdout",
     "output_type": "stream",
     "text": [
      "<class 'pandas.core.frame.DataFrame'>\n",
      "RangeIndex: 5000 entries, 0 to 4999\n",
      "Data columns (total 11 columns):\n",
      " #   Column                    Non-Null Count  Dtype  \n",
      "---  ------                    --------------  -----  \n",
      " 0   Customer_ID               5000 non-null   object \n",
      " 1   Name                      5000 non-null   object \n",
      " 2   Age                       5000 non-null   int64  \n",
      " 3   Gender                    5000 non-null   object \n",
      " 4   Location                  5000 non-null   object \n",
      " 5   Product_Category          5000 non-null   object \n",
      " 6   Purchase_Amount           5000 non-null   float64\n",
      " 7   Purchase_Date             5000 non-null   object \n",
      " 8   Loyalty_Points            5000 non-null   int64  \n",
      " 9   Website_Visits            5000 non-null   int64  \n",
      " 10  Preferred_Payment_Method  5000 non-null   object \n",
      "dtypes: float64(1), int64(3), object(7)\n",
      "memory usage: 429.8+ KB\n"
     ]
    }
   ],
   "source": [
    "df.info()"
   ]
  },
  {
   "cell_type": "code",
   "execution_count": 74,
   "id": "0c2fcde6-13cd-4b20-b20b-d2711f9f8625",
   "metadata": {},
   "outputs": [
    {
     "data": {
      "text/html": [
       "<div>\n",
       "<style scoped>\n",
       "    .dataframe tbody tr th:only-of-type {\n",
       "        vertical-align: middle;\n",
       "    }\n",
       "\n",
       "    .dataframe tbody tr th {\n",
       "        vertical-align: top;\n",
       "    }\n",
       "\n",
       "    .dataframe thead th {\n",
       "        text-align: right;\n",
       "    }\n",
       "</style>\n",
       "<table border=\"1\" class=\"dataframe\">\n",
       "  <thead>\n",
       "    <tr style=\"text-align: right;\">\n",
       "      <th></th>\n",
       "      <th>age</th>\n",
       "      <th>purchase_amount</th>\n",
       "      <th>purchase_date</th>\n",
       "      <th>loyalty_points</th>\n",
       "      <th>website_visits</th>\n",
       "    </tr>\n",
       "  </thead>\n",
       "  <tbody>\n",
       "    <tr>\n",
       "      <th>count</th>\n",
       "      <td>5000.00000</td>\n",
       "      <td>5000.000000</td>\n",
       "      <td>5000</td>\n",
       "      <td>5000.000000</td>\n",
       "      <td>5000.000000</td>\n",
       "    </tr>\n",
       "    <tr>\n",
       "      <th>mean</th>\n",
       "      <td>43.80400</td>\n",
       "      <td>252.829152</td>\n",
       "      <td>2024-07-02 23:40:42.240000</td>\n",
       "      <td>497.392600</td>\n",
       "      <td>25.783400</td>\n",
       "    </tr>\n",
       "    <tr>\n",
       "      <th>min</th>\n",
       "      <td>18.00000</td>\n",
       "      <td>10.200000</td>\n",
       "      <td>2024-01-01 00:00:00</td>\n",
       "      <td>0.000000</td>\n",
       "      <td>1.000000</td>\n",
       "    </tr>\n",
       "    <tr>\n",
       "      <th>25%</th>\n",
       "      <td>31.00000</td>\n",
       "      <td>130.267500</td>\n",
       "      <td>2024-04-06 00:00:00</td>\n",
       "      <td>244.000000</td>\n",
       "      <td>14.000000</td>\n",
       "    </tr>\n",
       "    <tr>\n",
       "      <th>50%</th>\n",
       "      <td>44.00000</td>\n",
       "      <td>252.200000</td>\n",
       "      <td>2024-07-05 00:00:00</td>\n",
       "      <td>503.000000</td>\n",
       "      <td>26.000000</td>\n",
       "    </tr>\n",
       "    <tr>\n",
       "      <th>75%</th>\n",
       "      <td>57.00000</td>\n",
       "      <td>372.295000</td>\n",
       "      <td>2024-09-29 00:00:00</td>\n",
       "      <td>749.000000</td>\n",
       "      <td>38.000000</td>\n",
       "    </tr>\n",
       "    <tr>\n",
       "      <th>max</th>\n",
       "      <td>70.00000</td>\n",
       "      <td>499.920000</td>\n",
       "      <td>2024-12-30 00:00:00</td>\n",
       "      <td>1000.000000</td>\n",
       "      <td>50.000000</td>\n",
       "    </tr>\n",
       "    <tr>\n",
       "      <th>std</th>\n",
       "      <td>15.13336</td>\n",
       "      <td>140.494820</td>\n",
       "      <td>NaN</td>\n",
       "      <td>287.569412</td>\n",
       "      <td>14.249179</td>\n",
       "    </tr>\n",
       "  </tbody>\n",
       "</table>\n",
       "</div>"
      ],
      "text/plain": [
       "              age  purchase_amount               purchase_date  \\\n",
       "count  5000.00000      5000.000000                        5000   \n",
       "mean     43.80400       252.829152  2024-07-02 23:40:42.240000   \n",
       "min      18.00000        10.200000         2024-01-01 00:00:00   \n",
       "25%      31.00000       130.267500         2024-04-06 00:00:00   \n",
       "50%      44.00000       252.200000         2024-07-05 00:00:00   \n",
       "75%      57.00000       372.295000         2024-09-29 00:00:00   \n",
       "max      70.00000       499.920000         2024-12-30 00:00:00   \n",
       "std      15.13336       140.494820                         NaN   \n",
       "\n",
       "       loyalty_points  website_visits  \n",
       "count     5000.000000     5000.000000  \n",
       "mean       497.392600       25.783400  \n",
       "min          0.000000        1.000000  \n",
       "25%        244.000000       14.000000  \n",
       "50%        503.000000       26.000000  \n",
       "75%        749.000000       38.000000  \n",
       "max       1000.000000       50.000000  \n",
       "std        287.569412       14.249179  "
      ]
     },
     "execution_count": 74,
     "metadata": {},
     "output_type": "execute_result"
    }
   ],
   "source": [
    "df.describe()"
   ]
  },
  {
   "cell_type": "code",
   "execution_count": 13,
   "id": "5c1fb46b-d862-4315-b63c-28e382544b38",
   "metadata": {},
   "outputs": [
    {
     "data": {
      "text/plain": [
       "Customer_ID                 0\n",
       "Name                        0\n",
       "Age                         0\n",
       "Gender                      0\n",
       "Location                    0\n",
       "Product_Category            0\n",
       "Purchase_Amount             0\n",
       "Purchase_Date               0\n",
       "Loyalty_Points              0\n",
       "Website_Visits              0\n",
       "Preferred_Payment_Method    0\n",
       "dtype: int64"
      ]
     },
     "execution_count": 13,
     "metadata": {},
     "output_type": "execute_result"
    }
   ],
   "source": [
    "#check for null values\n",
    "pd.isnull(df).sum()"
   ]
  },
  {
   "cell_type": "code",
   "execution_count": 14,
   "id": "0e3066ee-62e5-4c76-a93d-9d3301b899af",
   "metadata": {},
   "outputs": [
    {
     "data": {
      "text/plain": [
       "Customer_ID                 5000\n",
       "Name                        5000\n",
       "Age                           53\n",
       "Gender                         2\n",
       "Location                       4\n",
       "Product_Category               5\n",
       "Purchase_Amount             4770\n",
       "Purchase_Date                365\n",
       "Loyalty_Points               992\n",
       "Website_Visits                50\n",
       "Preferred_Payment_Method       5\n",
       "dtype: int64"
      ]
     },
     "execution_count": 14,
     "metadata": {},
     "output_type": "execute_result"
    }
   ],
   "source": [
    "df.nunique()"
   ]
  },
  {
   "cell_type": "markdown",
   "id": "86452aa7-1472-4f20-92c5-366c6b434f25",
   "metadata": {},
   "source": [
    " # Data Analyst 1"
   ]
  },
  {
   "cell_type": "markdown",
   "id": "e98f088c-2acf-43de-9a3e-467de8513c7e",
   "metadata": {},
   "source": [
    " # Data Collection and Cleaning"
   ]
  },
  {
   "cell_type": "markdown",
   "id": "fa5dec17-2291-40ae-b299-cb924306f698",
   "metadata": {},
   "source": [
    "## 1.1.1 Understand the Data"
   ]
  },
  {
   "cell_type": "code",
   "execution_count": 21,
   "id": "2e99127e-b18a-4287-ba58-e124f6ba90da",
   "metadata": {},
   "outputs": [
    {
     "name": "stdout",
     "output_type": "stream",
     "text": [
      "\n",
      "Column data types:\n",
      "Customer_ID                  object\n",
      "Name                         object\n",
      "Age                           int64\n",
      "Gender                       object\n",
      "Location                     object\n",
      "Product_Category             object\n",
      "Purchase_Amount             float64\n",
      "Purchase_Date                object\n",
      "Loyalty_Points                int64\n",
      "Website_Visits                int64\n",
      "Preferred_Payment_Method     object\n",
      "dtype: object\n"
     ]
    }
   ],
   "source": [
    "# Display data types\n",
    "print(\"\\nColumn data types:\")\n",
    "print(df.dtypes)"
   ]
  },
  {
   "cell_type": "code",
   "execution_count": 19,
   "id": "315458ee-9a7f-4631-aa08-4d988f890ed3",
   "metadata": {},
   "outputs": [
    {
     "name": "stdout",
     "output_type": "stream",
     "text": [
      "\n",
      "Missing values in each column:\n",
      "Customer_ID                 0\n",
      "Name                        0\n",
      "Age                         0\n",
      "Gender                      0\n",
      "Location                    0\n",
      "Product_Category            0\n",
      "Purchase_Amount             0\n",
      "Purchase_Date               0\n",
      "Loyalty_Points              0\n",
      "Website_Visits              0\n",
      "Preferred_Payment_Method    0\n",
      "dtype: int64\n"
     ]
    }
   ],
   "source": [
    "# Check for missing values\n",
    "print(\"\\nMissing values in each column:\")\n",
    "print(df.isnull().sum())"
   ]
  },
  {
   "cell_type": "code",
   "execution_count": 17,
   "id": "e8661460-ab4f-4e39-8193-20a9fa3c08e7",
   "metadata": {},
   "outputs": [
    {
     "name": "stdout",
     "output_type": "stream",
     "text": [
      "\n",
      "Summary statistics:\n",
      "       Customer_ID        Name         Age Gender Location Product_Category  \\\n",
      "count         5000        5000  5000.00000   5000     5000             5000   \n",
      "unique        5000        5000         NaN      2        4                5   \n",
      "top       CUST1000  Customer_0         NaN   Male    South      Electronics   \n",
      "freq             1           1         NaN   2538     1289             1044   \n",
      "mean           NaN         NaN    43.80400    NaN      NaN              NaN   \n",
      "std            NaN         NaN    15.13336    NaN      NaN              NaN   \n",
      "min            NaN         NaN    18.00000    NaN      NaN              NaN   \n",
      "25%            NaN         NaN    31.00000    NaN      NaN              NaN   \n",
      "50%            NaN         NaN    44.00000    NaN      NaN              NaN   \n",
      "75%            NaN         NaN    57.00000    NaN      NaN              NaN   \n",
      "max            NaN         NaN    70.00000    NaN      NaN              NaN   \n",
      "\n",
      "        Purchase_Amount Purchase_Date  Loyalty_Points  Website_Visits  \\\n",
      "count       5000.000000          5000     5000.000000     5000.000000   \n",
      "unique              NaN           365             NaN             NaN   \n",
      "top                 NaN    2024-08-25             NaN             NaN   \n",
      "freq                NaN            26             NaN             NaN   \n",
      "mean         252.829152           NaN      497.392600       25.783400   \n",
      "std          140.494820           NaN      287.569412       14.249179   \n",
      "min           10.200000           NaN        0.000000        1.000000   \n",
      "25%          130.267500           NaN      244.000000       14.000000   \n",
      "50%          252.200000           NaN      503.000000       26.000000   \n",
      "75%          372.295000           NaN      749.000000       38.000000   \n",
      "max          499.920000           NaN     1000.000000       50.000000   \n",
      "\n",
      "       Preferred_Payment_Method  \n",
      "count                      5000  \n",
      "unique                        5  \n",
      "top                         UPI  \n",
      "freq                       1038  \n",
      "mean                        NaN  \n",
      "std                         NaN  \n",
      "min                         NaN  \n",
      "25%                         NaN  \n",
      "50%                         NaN  \n",
      "75%                         NaN  \n",
      "max                         NaN  \n"
     ]
    }
   ],
   "source": [
    "# Summary statistics\n",
    "print(\"\\nSummary statistics:\")\n",
    "print(df.describe(include='all'))"
   ]
  },
  {
   "cell_type": "markdown",
   "id": "c977a091-9c61-4dab-a686-549d3cf593b1",
   "metadata": {},
   "source": [
    "## 1.1.2 Handle Missing Values"
   ]
  },
  {
   "cell_type": "code",
   "execution_count": 23,
   "id": "955b5140-be0e-499a-b031-0bb705c854d4",
   "metadata": {},
   "outputs": [
    {
     "name": "stdout",
     "output_type": "stream",
     "text": [
      "\n",
      "Columns with missing values: Index([], dtype='object')\n"
     ]
    }
   ],
   "source": [
    "# Identify columns with missing values\n",
    "missing_columns = df.columns[df.isnull().any()]\n",
    "print(\"\\nColumns with missing values:\", missing_columns)"
   ]
  },
  {
   "cell_type": "code",
   "execution_count": 24,
   "id": "91906b1e-0931-4889-9f5e-dd467e70dd32",
   "metadata": {},
   "outputs": [],
   "source": [
    "# Fill missing values with appropriate methods\n",
    "for col in missing_columns:\n",
    "    if data[col].dtype == 'object':  # For categorical data\n",
    "        data[col].fillna(data[col].mode()[0], inplace=True)\n",
    "    else:  # For numerical data\n",
    "        data[col].fillna(df[col].median(), inplace=True)"
   ]
  },
  {
   "cell_type": "code",
   "execution_count": 25,
   "id": "a7c422b2-1eb2-461c-8c63-edd546ce24aa",
   "metadata": {},
   "outputs": [
    {
     "name": "stdout",
     "output_type": "stream",
     "text": [
      "\n",
      "Missing values after handling:\n",
      "Customer_ID                 0\n",
      "Name                        0\n",
      "Age                         0\n",
      "Gender                      0\n",
      "Location                    0\n",
      "Product_Category            0\n",
      "Purchase_Amount             0\n",
      "Purchase_Date               0\n",
      "Loyalty_Points              0\n",
      "Website_Visits              0\n",
      "Preferred_Payment_Method    0\n",
      "dtype: int64\n"
     ]
    }
   ],
   "source": [
    "# Verify no missing values remain\n",
    "print(\"\\nMissing values after handling:\")\n",
    "print(df.isnull().sum())"
   ]
  },
  {
   "cell_type": "markdown",
   "id": "634e0587-01c1-4920-99d1-170da970d8ee",
   "metadata": {},
   "source": [
    "## 1.1.3 Check for Duplicates"
   ]
  },
  {
   "cell_type": "code",
   "execution_count": 34,
   "id": "bc980904-0db9-4411-9cc1-8261d1c23757",
   "metadata": {},
   "outputs": [
    {
     "name": "stdout",
     "output_type": "stream",
     "text": [
      "\n",
      "Number of duplicate rows: 0\n"
     ]
    }
   ],
   "source": [
    "# Check for duplicates\n",
    "duplicates = df.duplicated().sum()\n",
    "print(f\"\\nNumber of duplicate rows: {duplicates}\")\n",
    "\n",
    "# Remove duplicates\n",
    "if duplicates > 0:\n",
    "    data.drop_duplicates(inplace=True)\n",
    "    print(\"Duplicate rows removed.\")\n"
   ]
  },
  {
   "cell_type": "markdown",
   "id": "f84b40b4-c930-4ab4-90d0-756bb9826082",
   "metadata": {},
   "source": [
    "## 1.1.4 Validate Data Types"
   ]
  },
  {
   "cell_type": "code",
   "execution_count": 33,
   "id": "a7ac6c39-6e66-418b-b214-e416c3bbb122",
   "metadata": {},
   "outputs": [
    {
     "name": "stdout",
     "output_type": "stream",
     "text": [
      "\n",
      "Data types after validation:\n",
      "Customer_ID                         object\n",
      "Name                                object\n",
      "Age                                  int64\n",
      "Gender                              object\n",
      "Location                            object\n",
      "Product_Category                    object\n",
      "Purchase_Amount                    float64\n",
      "Purchase_Date               datetime64[ns]\n",
      "Loyalty_Points                       int64\n",
      "Website_Visits                       int64\n",
      "Preferred_Payment_Method            object\n",
      "dtype: object\n"
     ]
    }
   ],
   "source": [
    "# Convert Purchase_Date to datetime\n",
    "df['Purchase_Date'] = pd.to_datetime(df['Purchase_Date'])\n",
    "\n",
    "# Ensure numerical columns are numeric\n",
    "numeric_columns = ['Age', 'Purchase_Amount', 'Loyalty_Points', 'Website_Visits']\n",
    "for col in numeric_columns:\n",
    "    df[col] = pd.to_numeric(df[col], errors='coerce')\n",
    "\n",
    "print(\"\\nData types after validation:\")\n",
    "print(df.dtypes)"
   ]
  },
  {
   "cell_type": "markdown",
   "id": "ab8b3308-1bab-4968-bb4b-a46bfd254807",
   "metadata": {},
   "source": [
    " ## 1.1.5 Outlier Detection and Handling"
   ]
  },
  {
   "cell_type": "code",
   "execution_count": 36,
   "id": "54f0d6a2-d5c5-4180-a5a3-d140e68b29ce",
   "metadata": {},
   "outputs": [
    {
     "name": "stdout",
     "output_type": "stream",
     "text": [
      "\n",
      "Outliers handled in numeric columns.\n"
     ]
    }
   ],
   "source": [
    "# Define a function to cap outliers using the IQR method\n",
    "def cap_outliers(series):\n",
    "    Q1 = series.quantile(0.25)\n",
    "    Q3 = series.quantile(0.75)\n",
    "    IQR = Q3 - Q1\n",
    "    lower_bound = Q1 - 1.5 * IQR\n",
    "    upper_bound = Q3 + 1.5 * IQR\n",
    "    return np.clip(series, lower_bound, upper_bound)\n",
    "\n",
    "# Apply outlier capping\n",
    "for col in numeric_columns:\n",
    "    df[col] = cap_outliers(df[col])\n",
    "\n",
    "print(\"\\nOutliers handled in numeric columns.\")\n"
   ]
  },
  {
   "cell_type": "markdown",
   "id": "52d7910f-f83f-461b-bba3-8bcfce01dc73",
   "metadata": {},
   "source": [
    "## 1.1.6 Standardize Column Name"
   ]
  },
  {
   "cell_type": "code",
   "execution_count": 39,
   "id": "3816e020-da83-450d-bb48-38ba61981b60",
   "metadata": {},
   "outputs": [
    {
     "name": "stdout",
     "output_type": "stream",
     "text": [
      "\n",
      "Standardized column names:\n",
      "Index(['customer_id', 'name', 'age', 'gender', 'location', 'product_category',\n",
      "       'purchase_amount', 'purchase_date', 'loyalty_points', 'website_visits',\n",
      "       'preferred_payment_method'],\n",
      "      dtype='object')\n"
     ]
    }
   ],
   "source": [
    "# Rename columns to follow a consistent format\n",
    "df.columns = [col.lower().replace(' ', '_') for col in df.columns]\n",
    "\n",
    "print(\"\\nStandardized column names:\")\n",
    "print(df.columns)\n"
   ]
  },
  {
   "cell_type": "markdown",
   "id": "ca462fbd-8560-44da-b52f-7c8b920d713d",
   "metadata": {},
   "source": [
    "## 1.1.7 Save the Cleaned Dataset\n"
   ]
  },
  {
   "cell_type": "code",
   "execution_count": 49,
   "id": "d39c552d-f8e8-4e50-b59e-371c4503ae25",
   "metadata": {},
   "outputs": [
    {
     "name": "stdout",
     "output_type": "stream",
     "text": [
      "\n",
      "Cleaned dataset saved at: /mnt/data/Cleaned_Sales_Customer_Behavior_Dataset.csv\n"
     ]
    }
   ],
   "source": [
    "df.to_csv('Cleaned_Sales_Customer_Behavior_Dataset.csv', index=False)\n",
    "#cleaned_file_path = '/mnt/data/Cleaned_Sales_Customer_Behavior_Dataset.csv'\n",
    "df.to_csv(cleaned_file_path, index=False)\n",
    "\n",
    "print(f\"\\nCleaned dataset saved at: {cleaned_file_path}\")\n"
   ]
  },
  {
   "cell_type": "code",
   "execution_count": 48,
   "id": "c91fa47d-f27b-4f19-8dbc-df60462b9cc2",
   "metadata": {},
   "outputs": [
    {
     "name": "stdout",
     "output_type": "stream",
     "text": [
      "Cleaned dataset saved to /mnt/data/Cleaned_Sales_Customer_Behavior_Dataset.csv\n"
     ]
    }
   ],
   "source": [
    "import os\n",
    "# Define the file path and save the dataset\n",
    "cleaned_file_path = '/mnt/data/Cleaned_Sales_Customer_Behavior_Dataset.csv'\n",
    "os.makedirs(os.path.dirname(cleaned_file_path), exist_ok=True)\n",
    "df.to_csv(cleaned_file_path, index=False)\n",
    "print(f\"Cleaned dataset saved to {cleaned_file_path}\")\n"
   ]
  },
  {
   "cell_type": "markdown",
   "id": "d5ebf8a3-fcf2-4b3c-bf6c-d741f7dbfa08",
   "metadata": {},
   "source": [
    "## 1.2.1 missing values"
   ]
  },
  {
   "cell_type": "code",
   "execution_count": 57,
   "id": "d75a7795-fca1-4af9-8d40-b4e60aaf4712",
   "metadata": {},
   "outputs": [
    {
     "name": "stdout",
     "output_type": "stream",
     "text": [
      "\n",
      "Missing values after handling:\n",
      "customer_id                 0\n",
      "name                        0\n",
      "age                         0\n",
      "gender                      0\n",
      "location                    0\n",
      "product_category            0\n",
      "purchase_amount             0\n",
      "purchase_date               0\n",
      "loyalty_points              0\n",
      "website_visits              0\n",
      "preferred_payment_method    0\n",
      "dtype: int64\n"
     ]
    }
   ],
   "source": [
    "# Fill missing values for categorical and numerical columns\n",
    "for col in df.columns:\n",
    "    if df[col].dtype == 'object':  # For categorical data\n",
    "        df[col].fillna(df[col].mode()[0], inplace=True)\n",
    "    else:  # For numerical data\n",
    "        df[col].fillna(df[col].median(), inplace=True)\n",
    "\n",
    "# Verify no missing values remain\n",
    "print(\"\\nMissing values after handling:\")\n",
    "print(df.isnull().sum())\n"
   ]
  },
  {
   "cell_type": "markdown",
   "id": "1ceae240-ba91-484a-af1c-6cd0a93c4b52",
   "metadata": {},
   "source": [
    "## 1.2.2 Remove Outliers"
   ]
  },
  {
   "cell_type": "code",
   "execution_count": 61,
   "id": "10a886f5-18ae-43e5-ac56-d1e647c43868",
   "metadata": {},
   "outputs": [
    {
     "name": "stdout",
     "output_type": "stream",
     "text": [
      "\n",
      "Outliers have been handled in numeric columns.\n"
     ]
    }
   ],
   "source": [
    "# Define a function to cap outliers using the IQR method\n",
    "def cap_outliers(series):\n",
    "    Q1 = series.quantile(0.25)\n",
    "    Q3 = series.quantile(0.75)\n",
    "    IQR = Q3 - Q1\n",
    "    lower_bound = Q1 - 1.5 * IQR\n",
    "    upper_bound = Q3 + 1.5 * IQR\n",
    "    return np.clip(series, lower_bound, upper_bound)\n",
    "\n",
    "# Apply the function to all numerical columns\n",
    "numeric_columns = df.select_dtypes(include=[np.number]).columns\n",
    "for col in numeric_columns:\n",
    "    df[col] = cap_outliers(df[col])\n",
    "\n",
    "print(\"\\nOutliers have been handled in numeric columns.\")\n"
   ]
  },
  {
   "cell_type": "markdown",
   "id": "f1a6b3a6-01ed-40ec-a42a-3ef7006c4a42",
   "metadata": {},
   "source": [
    "## 1.2.3 Standardize Column Names\n"
   ]
  },
  {
   "cell_type": "code",
   "execution_count": 62,
   "id": "cb2326de-341c-4525-86c8-aa1e912c7ed0",
   "metadata": {},
   "outputs": [
    {
     "name": "stdout",
     "output_type": "stream",
     "text": [
      "\n",
      "Standardized column names:\n",
      "Index(['customer_id', 'name', 'age', 'gender', 'location', 'product_category',\n",
      "       'purchase_amount', 'purchase_date', 'loyalty_points', 'website_visits',\n",
      "       'preferred_payment_method'],\n",
      "      dtype='object')\n"
     ]
    }
   ],
   "source": [
    "# Standardize column names by making them lowercase and replacing spaces with underscores\n",
    "df.columns = [col.lower().replace(' ', '_') for col in df.columns]\n",
    "\n",
    "print(\"\\nStandardized column names:\")\n",
    "print(df.columns)\n"
   ]
  },
  {
   "cell_type": "markdown",
   "id": "dbee8525-5136-4ccc-91c7-b349bfcc1fca",
   "metadata": {},
   "source": [
    "## 1.2.4 Save the Cleaned Dataset"
   ]
  },
  {
   "cell_type": "code",
   "execution_count": 75,
   "id": "a945fca0-9e51-4485-87d2-8ce7e038505c",
   "metadata": {},
   "outputs": [
    {
     "name": "stdout",
     "output_type": "stream",
     "text": [
      "\n",
      "Cleaned dataset saved successfully at: /mnt/data/Cleaned_Sales_Customer_Behavior_Dataset.csv\n"
     ]
    }
   ],
   "source": [
    "# Define the output file path\n",
    "cleaned_file_path = '/mnt/data/Cleaned_Sales_Customer_Behavior_Dataset.csv'\n",
    "\n",
    "# Create the directory if it doesn't exist\n",
    "os.makedirs(os.path.dirname(cleaned_file_path), exist_ok=True)\n",
    "\n",
    "# Save the cleaned dataset\n",
    "df.to_csv(cleaned_file_path, index=False)\n",
    "\n",
    "print(f\"\\nCleaned dataset saved successfully at: {cleaned_file_path}\")\n"
   ]
  },
  {
   "cell_type": "code",
   "execution_count": 68,
   "id": "32bd2824-a5e4-4211-91ef-3a189fb3a90b",
   "metadata": {},
   "outputs": [
    {
     "name": "stdout",
     "output_type": "stream",
     "text": [
      "Dataset saved successfully at: /mnt/data/Prepared_Sales_Customer_Behavior_Dataset.csv\n"
     ]
    }
   ],
   "source": [
    "# Save the dataset to a downloadable path\n",
    "prepared_file_path = '/mnt/data/Prepared_Sales_Customer_Behavior_Dataset.csv'\n",
    "df.to_csv(prepared_file_path, index=False)\n",
    "\n",
    "print(f\"Dataset saved successfully at: {prepared_file_path}\")\n"
   ]
  },
  {
   "cell_type": "code",
   "execution_count": 72,
   "id": "9ba4b4c7-71d1-4226-ad62-1859b7fd2cef",
   "metadata": {},
   "outputs": [
    {
     "name": "stdout",
     "output_type": "stream",
     "text": [
      "Cleaned dataset saved to /mnt/data/Cleaned_Sales_Customer_Behavior_Dataset_Cleaned.csv\n"
     ]
    }
   ],
   "source": [
    "# Step 5: Export cleaned dataset\n",
    "cleaned_file_path = '/mnt/data/Cleaned_Sales_Customer_Behavior_Dataset_Cleaned.csv'\n",
    "df.to_csv(cleaned_file_path, index=False)\n",
    "print(f\"Cleaned dataset saved to {cleaned_file_path}\")\n"
   ]
  },
  {
   "cell_type": "markdown",
   "id": "c46388a7-8661-4127-a8ee-3b7b98d44917",
   "metadata": {},
   "source": [
    "## 1.3.1 Verify the Cleaned Dataset"
   ]
  },
  {
   "cell_type": "code",
   "execution_count": 76,
   "id": "10c71798-ea04-4e44-881e-3febf69430f7",
   "metadata": {},
   "outputs": [
    {
     "name": "stdout",
     "output_type": "stream",
     "text": [
      "<class 'pandas.core.frame.DataFrame'>\n",
      "RangeIndex: 5000 entries, 0 to 4999\n",
      "Data columns (total 11 columns):\n",
      " #   Column                    Non-Null Count  Dtype         \n",
      "---  ------                    --------------  -----         \n",
      " 0   customer_id               5000 non-null   object        \n",
      " 1   name                      5000 non-null   object        \n",
      " 2   age                       5000 non-null   int64         \n",
      " 3   gender                    5000 non-null   object        \n",
      " 4   location                  5000 non-null   object        \n",
      " 5   product_category          5000 non-null   object        \n",
      " 6   purchase_amount           5000 non-null   float64       \n",
      " 7   purchase_date             5000 non-null   datetime64[ns]\n",
      " 8   loyalty_points            5000 non-null   int64         \n",
      " 9   website_visits            5000 non-null   int64         \n",
      " 10  preferred_payment_method  5000 non-null   object        \n",
      "dtypes: datetime64[ns](1), float64(1), int64(3), object(6)\n",
      "memory usage: 429.8+ KB\n",
      "None\n",
      "Remaining missing values:\n",
      " customer_id                 0\n",
      "name                        0\n",
      "age                         0\n",
      "gender                      0\n",
      "location                    0\n",
      "product_category            0\n",
      "purchase_amount             0\n",
      "purchase_date               0\n",
      "loyalty_points              0\n",
      "website_visits              0\n",
      "preferred_payment_method    0\n",
      "dtype: int64\n",
      "Duplicate rows: 0\n"
     ]
    }
   ],
   "source": [
    "# Verify data types and non-null counts\n",
    "print(df.info())\n",
    "\n",
    "# Check for any remaining missing values\n",
    "print(\"Remaining missing values:\\n\", df.isnull().sum())\n",
    "\n",
    "# Ensure there are no duplicate rows\n",
    "print(\"Duplicate rows:\", df.duplicated().sum())\n"
   ]
  },
  {
   "cell_type": "markdown",
   "id": "fa12fcbe-0daa-43db-b7f3-8bba5b143547",
   "metadata": {},
   "source": [
    "## 1.3.2 Add Derived Columns (if Needed)"
   ]
  },
  {
   "cell_type": "code",
   "execution_count": 85,
   "id": "a8b95399-3989-4545-b4fd-9bc6dd21c8c9",
   "metadata": {},
   "outputs": [],
   "source": [
    "# Example: Extract year and month from purchase_date\n",
    "if 'purchase_date' in df.columns:\n",
    "    df['purchase_date'] = pd.to_datetime(df['purchase_date'])\n",
    "    df['purchase_year'] = df['purchase_date'].dt.year\n",
    "    df['purchase_month'] = df['purchase_date'].dt.month\n",
    "\n",
    "# Example: Segment customers by age group\n",
    "if 'age' in df.columns:\n",
    "    bins = [0, 18, 35, 50, 65, 100]\n",
    "    labels = ['<18', '18-35', '36-50', '51-65', '>65']\n",
    "    df['age_group'] = pd.cut(df['age'], bins=bins, labels=labels, right=False)"
   ]
  },
  {
   "cell_type": "markdown",
   "id": "27ebe2a1-6a1c-46bf-8473-8e3d0855c244",
   "metadata": {},
   "source": [
    "## 1.3.3 Normalize Numerical Columns (if Needed)"
   ]
  },
  {
   "cell_type": "code",
   "execution_count": 89,
   "id": "56b3267a-1bb2-4093-b66d-192e31395368",
   "metadata": {},
   "outputs": [],
   "source": [
    "from sklearn.preprocessing import MinMaxScaler\n",
    "\n",
    "# Normalize purchase_amount\n",
    "if 'purchase_amount' in df.columns:\n",
    "    scaler = MinMaxScaler()\n",
    "    df['purchase_amount_normalized'] = scaler.fit_transform(df[['purchase_amount']])\n"
   ]
  },
  {
   "cell_type": "markdown",
   "id": "96018fb4-aafe-4918-88e3-59716cef6743",
   "metadata": {},
   "source": [
    "## 1.3.4 Encode Categorical Variables"
   ]
  },
  {
   "cell_type": "code",
   "execution_count": 93,
   "id": "0457f47a-0c6b-4312-80eb-0157a7f4e4f0",
   "metadata": {},
   "outputs": [
    {
     "name": "stdout",
     "output_type": "stream",
     "text": [
      "Columns after encoding: ['customer_id', 'name', 'age', 'location', 'purchase_amount', 'purchase_date', 'loyalty_points', 'website_visits', 'purchase_year', 'purchase_month', 'age_group', 'purchase_amount_normalized', 'gender_Male', 'preferred_payment_method_Credit Card', 'preferred_payment_method_Debit Card', 'preferred_payment_method_Net Banking', 'preferred_payment_method_UPI', 'product_category_Electronics', 'product_category_Fashion', 'product_category_Home', 'product_category_Toys']\n"
     ]
    }
   ],
   "source": [
    "# Ensure columns exist, clean column names, and apply one-hot encoding\n",
    "required_columns = ['gender', 'preferred_payment_method', 'product_category']\n",
    "\n",
    "# Check and clean column names\n",
    "df.columns = df.columns.str.strip()  # Remove leading/trailing spaces\n",
    "\n",
    "# Handle missing columns by creating placeholders\n",
    "for col in required_columns:\n",
    "    if col not in df.columns:\n",
    "        df[col] = None  # Assign a default value like 'Unknown'\n",
    "\n",
    "# Apply one-hot encoding to the required columns\n",
    "df = pd.get_dummies(df, columns=required_columns, drop_first=True)\n",
    "\n",
    "# Print the resulting DataFrame's columns to verify\n",
    "print(\"Columns after encoding:\", df.columns.tolist())\n"
   ]
  },
  {
   "cell_type": "markdown",
   "id": "65ca2d3d-21f1-4aee-9068-f551a8776adb",
   "metadata": {},
   "source": [
    "## 1.3.5 Recheck Dataset Integrity"
   ]
  },
  {
   "cell_type": "code",
   "execution_count": 96,
   "id": "06398d43-ca8a-477e-9981-70f68bd024cc",
   "metadata": {},
   "outputs": [
    {
     "name": "stdout",
     "output_type": "stream",
     "text": [
      "       customer_id        name         age location  purchase_amount  \\\n",
      "count         5000        5000  5000.00000     5000      5000.000000   \n",
      "unique        5000        5000         NaN        4              NaN   \n",
      "top       CUST1000  Customer_0         NaN    South              NaN   \n",
      "freq             1           1         NaN     1289              NaN   \n",
      "mean           NaN         NaN    43.80400      NaN       252.829152   \n",
      "min            NaN         NaN    18.00000      NaN        10.200000   \n",
      "25%            NaN         NaN    31.00000      NaN       130.267500   \n",
      "50%            NaN         NaN    44.00000      NaN       252.200000   \n",
      "75%            NaN         NaN    57.00000      NaN       372.295000   \n",
      "max            NaN         NaN    70.00000      NaN       499.920000   \n",
      "std            NaN         NaN    15.13336      NaN       140.494820   \n",
      "\n",
      "                     purchase_date  loyalty_points  website_visits  \\\n",
      "count                         5000     5000.000000     5000.000000   \n",
      "unique                         NaN             NaN             NaN   \n",
      "top                            NaN             NaN             NaN   \n",
      "freq                           NaN             NaN             NaN   \n",
      "mean    2024-07-02 23:40:42.240000      497.392600       25.783400   \n",
      "min            2024-01-01 00:00:00        0.000000        1.000000   \n",
      "25%            2024-04-06 00:00:00      244.000000       14.000000   \n",
      "50%            2024-07-05 00:00:00      503.000000       26.000000   \n",
      "75%            2024-09-29 00:00:00      749.000000       38.000000   \n",
      "max            2024-12-30 00:00:00     1000.000000       50.000000   \n",
      "std                            NaN      287.569412       14.249179   \n",
      "\n",
      "        purchase_year  purchase_month  ... purchase_amount_normalized  \\\n",
      "count          5000.0     5000.000000  ...                5000.000000   \n",
      "unique            NaN             NaN  ...                        NaN   \n",
      "top               NaN             NaN  ...                        NaN   \n",
      "freq              NaN             NaN  ...                        NaN   \n",
      "mean           2024.0        6.561400  ...                   0.495445   \n",
      "min            2024.0        1.000000  ...                   0.000000   \n",
      "25%            2024.0        4.000000  ...                   0.245176   \n",
      "50%            2024.0        7.000000  ...                   0.494160   \n",
      "75%            2024.0        9.000000  ...                   0.739392   \n",
      "max            2024.0       12.000000  ...                   1.000000   \n",
      "std               0.0        3.401668  ...                   0.286888   \n",
      "\n",
      "        gender_Male preferred_payment_method_Credit Card  \\\n",
      "count          5000                                 5000   \n",
      "unique            2                                    2   \n",
      "top            True                                False   \n",
      "freq           2538                                 3997   \n",
      "mean            NaN                                  NaN   \n",
      "min             NaN                                  NaN   \n",
      "25%             NaN                                  NaN   \n",
      "50%             NaN                                  NaN   \n",
      "75%             NaN                                  NaN   \n",
      "max             NaN                                  NaN   \n",
      "std             NaN                                  NaN   \n",
      "\n",
      "       preferred_payment_method_Debit Card  \\\n",
      "count                                 5000   \n",
      "unique                                   2   \n",
      "top                                  False   \n",
      "freq                                  4023   \n",
      "mean                                   NaN   \n",
      "min                                    NaN   \n",
      "25%                                    NaN   \n",
      "50%                                    NaN   \n",
      "75%                                    NaN   \n",
      "max                                    NaN   \n",
      "std                                    NaN   \n",
      "\n",
      "       preferred_payment_method_Net Banking preferred_payment_method_UPI  \\\n",
      "count                                  5000                         5000   \n",
      "unique                                    2                            2   \n",
      "top                                   False                        False   \n",
      "freq                                   4027                         3962   \n",
      "mean                                    NaN                          NaN   \n",
      "min                                     NaN                          NaN   \n",
      "25%                                     NaN                          NaN   \n",
      "50%                                     NaN                          NaN   \n",
      "75%                                     NaN                          NaN   \n",
      "max                                     NaN                          NaN   \n",
      "std                                     NaN                          NaN   \n",
      "\n",
      "       product_category_Electronics product_category_Fashion  \\\n",
      "count                          5000                     5000   \n",
      "unique                            2                        2   \n",
      "top                           False                    False   \n",
      "freq                           3956                     3988   \n",
      "mean                            NaN                      NaN   \n",
      "min                             NaN                      NaN   \n",
      "25%                             NaN                      NaN   \n",
      "50%                             NaN                      NaN   \n",
      "75%                             NaN                      NaN   \n",
      "max                             NaN                      NaN   \n",
      "std                             NaN                      NaN   \n",
      "\n",
      "       product_category_Home product_category_Toys  \n",
      "count                   5000                  5000  \n",
      "unique                     2                     2  \n",
      "top                    False                 False  \n",
      "freq                    4065                  4006  \n",
      "mean                     NaN                   NaN  \n",
      "min                      NaN                   NaN  \n",
      "25%                      NaN                   NaN  \n",
      "50%                      NaN                   NaN  \n",
      "75%                      NaN                   NaN  \n",
      "max                      NaN                   NaN  \n",
      "std                      NaN                   NaN  \n",
      "\n",
      "[11 rows x 21 columns]\n",
      "Dataset shape: (5000, 21)\n"
     ]
    }
   ],
   "source": [
    "# Check for any remaining anomalies\n",
    "print(df.describe(include='all'))\n",
    "\n",
    "# Check dataset dimensions\n",
    "print(\"Dataset shape:\", df.shape)\n"
   ]
  },
  {
   "cell_type": "markdown",
   "id": "18bd95fa-daf6-48a4-b5ff-0c373bdccd60",
   "metadata": {},
   "source": [
    "## 1.3.6 Save the Prepared Dataset\n"
   ]
  },
  {
   "cell_type": "code",
   "execution_count": 98,
   "id": "f29b952c-a42d-4e8f-a4e8-907d2f7d7e87",
   "metadata": {},
   "outputs": [
    {
     "name": "stdout",
     "output_type": "stream",
     "text": [
      "Prepared dataset saved to: /mnt/data/Prepared_Sales_Customer_Behavior_Dataset.csv\n"
     ]
    }
   ],
   "source": [
    "# Save the dataset for analysis\n",
    "prepared_file_path = '/mnt/data/Prepared_Sales_Customer_Behavior_Dataset.csv'\n",
    "df.to_csv(prepared_file_path, index=False)\n",
    "print(f\"Prepared dataset saved to: {prepared_file_path}\")"
   ]
  },
  {
   "cell_type": "code",
   "execution_count": 100,
   "id": "d659d55f-2b6a-4744-a0ac-30a6f3c74419",
   "metadata": {},
   "outputs": [
    {
     "data": {
      "text/html": [
       "<div>\n",
       "<style scoped>\n",
       "    .dataframe tbody tr th:only-of-type {\n",
       "        vertical-align: middle;\n",
       "    }\n",
       "\n",
       "    .dataframe tbody tr th {\n",
       "        vertical-align: top;\n",
       "    }\n",
       "\n",
       "    .dataframe thead th {\n",
       "        text-align: right;\n",
       "    }\n",
       "</style>\n",
       "<table border=\"1\" class=\"dataframe\">\n",
       "  <thead>\n",
       "    <tr style=\"text-align: right;\">\n",
       "      <th></th>\n",
       "      <th>customer_id</th>\n",
       "      <th>name</th>\n",
       "      <th>age</th>\n",
       "      <th>location</th>\n",
       "      <th>purchase_amount</th>\n",
       "      <th>purchase_date</th>\n",
       "      <th>loyalty_points</th>\n",
       "      <th>website_visits</th>\n",
       "      <th>purchase_year</th>\n",
       "      <th>purchase_month</th>\n",
       "      <th>...</th>\n",
       "      <th>purchase_amount_normalized</th>\n",
       "      <th>gender_Male</th>\n",
       "      <th>preferred_payment_method_Credit Card</th>\n",
       "      <th>preferred_payment_method_Debit Card</th>\n",
       "      <th>preferred_payment_method_Net Banking</th>\n",
       "      <th>preferred_payment_method_UPI</th>\n",
       "      <th>product_category_Electronics</th>\n",
       "      <th>product_category_Fashion</th>\n",
       "      <th>product_category_Home</th>\n",
       "      <th>product_category_Toys</th>\n",
       "    </tr>\n",
       "  </thead>\n",
       "  <tbody>\n",
       "    <tr>\n",
       "      <th>0</th>\n",
       "      <td>CUST1000</td>\n",
       "      <td>Customer_0</td>\n",
       "      <td>64</td>\n",
       "      <td>North</td>\n",
       "      <td>301.40</td>\n",
       "      <td>2024-12-01</td>\n",
       "      <td>271</td>\n",
       "      <td>39</td>\n",
       "      <td>2024</td>\n",
       "      <td>12</td>\n",
       "      <td>...</td>\n",
       "      <td>0.594626</td>\n",
       "      <td>True</td>\n",
       "      <td>False</td>\n",
       "      <td>True</td>\n",
       "      <td>False</td>\n",
       "      <td>False</td>\n",
       "      <td>False</td>\n",
       "      <td>False</td>\n",
       "      <td>False</td>\n",
       "      <td>True</td>\n",
       "    </tr>\n",
       "    <tr>\n",
       "      <th>1</th>\n",
       "      <td>CUST1001</td>\n",
       "      <td>Customer_1</td>\n",
       "      <td>37</td>\n",
       "      <td>East</td>\n",
       "      <td>150.69</td>\n",
       "      <td>2024-12-24</td>\n",
       "      <td>503</td>\n",
       "      <td>10</td>\n",
       "      <td>2024</td>\n",
       "      <td>12</td>\n",
       "      <td>...</td>\n",
       "      <td>0.286878</td>\n",
       "      <td>True</td>\n",
       "      <td>False</td>\n",
       "      <td>False</td>\n",
       "      <td>True</td>\n",
       "      <td>False</td>\n",
       "      <td>True</td>\n",
       "      <td>False</td>\n",
       "      <td>False</td>\n",
       "      <td>False</td>\n",
       "    </tr>\n",
       "    <tr>\n",
       "      <th>2</th>\n",
       "      <td>CUST1002</td>\n",
       "      <td>Customer_2</td>\n",
       "      <td>27</td>\n",
       "      <td>East</td>\n",
       "      <td>449.15</td>\n",
       "      <td>2024-09-13</td>\n",
       "      <td>482</td>\n",
       "      <td>42</td>\n",
       "      <td>2024</td>\n",
       "      <td>9</td>\n",
       "      <td>...</td>\n",
       "      <td>0.896329</td>\n",
       "      <td>True</td>\n",
       "      <td>False</td>\n",
       "      <td>False</td>\n",
       "      <td>False</td>\n",
       "      <td>True</td>\n",
       "      <td>False</td>\n",
       "      <td>True</td>\n",
       "      <td>False</td>\n",
       "      <td>False</td>\n",
       "    </tr>\n",
       "    <tr>\n",
       "      <th>3</th>\n",
       "      <td>CUST1003</td>\n",
       "      <td>Customer_3</td>\n",
       "      <td>36</td>\n",
       "      <td>East</td>\n",
       "      <td>356.97</td>\n",
       "      <td>2024-01-02</td>\n",
       "      <td>412</td>\n",
       "      <td>49</td>\n",
       "      <td>2024</td>\n",
       "      <td>1</td>\n",
       "      <td>...</td>\n",
       "      <td>0.708099</td>\n",
       "      <td>True</td>\n",
       "      <td>False</td>\n",
       "      <td>False</td>\n",
       "      <td>False</td>\n",
       "      <td>False</td>\n",
       "      <td>False</td>\n",
       "      <td>False</td>\n",
       "      <td>False</td>\n",
       "      <td>False</td>\n",
       "    </tr>\n",
       "    <tr>\n",
       "      <th>4</th>\n",
       "      <td>CUST1004</td>\n",
       "      <td>Customer_4</td>\n",
       "      <td>59</td>\n",
       "      <td>East</td>\n",
       "      <td>257.52</td>\n",
       "      <td>2024-08-30</td>\n",
       "      <td>136</td>\n",
       "      <td>40</td>\n",
       "      <td>2024</td>\n",
       "      <td>8</td>\n",
       "      <td>...</td>\n",
       "      <td>0.505023</td>\n",
       "      <td>False</td>\n",
       "      <td>False</td>\n",
       "      <td>True</td>\n",
       "      <td>False</td>\n",
       "      <td>False</td>\n",
       "      <td>False</td>\n",
       "      <td>False</td>\n",
       "      <td>False</td>\n",
       "      <td>True</td>\n",
       "    </tr>\n",
       "    <tr>\n",
       "      <th>...</th>\n",
       "      <td>...</td>\n",
       "      <td>...</td>\n",
       "      <td>...</td>\n",
       "      <td>...</td>\n",
       "      <td>...</td>\n",
       "      <td>...</td>\n",
       "      <td>...</td>\n",
       "      <td>...</td>\n",
       "      <td>...</td>\n",
       "      <td>...</td>\n",
       "      <td>...</td>\n",
       "      <td>...</td>\n",
       "      <td>...</td>\n",
       "      <td>...</td>\n",
       "      <td>...</td>\n",
       "      <td>...</td>\n",
       "      <td>...</td>\n",
       "      <td>...</td>\n",
       "      <td>...</td>\n",
       "      <td>...</td>\n",
       "      <td>...</td>\n",
       "    </tr>\n",
       "    <tr>\n",
       "      <th>4995</th>\n",
       "      <td>CUST5995</td>\n",
       "      <td>Customer_4995</td>\n",
       "      <td>66</td>\n",
       "      <td>South</td>\n",
       "      <td>238.14</td>\n",
       "      <td>2024-09-12</td>\n",
       "      <td>357</td>\n",
       "      <td>13</td>\n",
       "      <td>2024</td>\n",
       "      <td>9</td>\n",
       "      <td>...</td>\n",
       "      <td>0.465450</td>\n",
       "      <td>False</td>\n",
       "      <td>True</td>\n",
       "      <td>False</td>\n",
       "      <td>False</td>\n",
       "      <td>False</td>\n",
       "      <td>False</td>\n",
       "      <td>False</td>\n",
       "      <td>False</td>\n",
       "      <td>False</td>\n",
       "    </tr>\n",
       "    <tr>\n",
       "      <th>4996</th>\n",
       "      <td>CUST5996</td>\n",
       "      <td>Customer_4996</td>\n",
       "      <td>44</td>\n",
       "      <td>South</td>\n",
       "      <td>311.76</td>\n",
       "      <td>2024-05-03</td>\n",
       "      <td>229</td>\n",
       "      <td>4</td>\n",
       "      <td>2024</td>\n",
       "      <td>5</td>\n",
       "      <td>...</td>\n",
       "      <td>0.615780</td>\n",
       "      <td>False</td>\n",
       "      <td>False</td>\n",
       "      <td>True</td>\n",
       "      <td>False</td>\n",
       "      <td>False</td>\n",
       "      <td>False</td>\n",
       "      <td>False</td>\n",
       "      <td>False</td>\n",
       "      <td>True</td>\n",
       "    </tr>\n",
       "    <tr>\n",
       "      <th>4997</th>\n",
       "      <td>CUST5997</td>\n",
       "      <td>Customer_4997</td>\n",
       "      <td>42</td>\n",
       "      <td>North</td>\n",
       "      <td>59.09</td>\n",
       "      <td>2024-07-20</td>\n",
       "      <td>262</td>\n",
       "      <td>46</td>\n",
       "      <td>2024</td>\n",
       "      <td>7</td>\n",
       "      <td>...</td>\n",
       "      <td>0.099833</td>\n",
       "      <td>False</td>\n",
       "      <td>False</td>\n",
       "      <td>False</td>\n",
       "      <td>False</td>\n",
       "      <td>False</td>\n",
       "      <td>False</td>\n",
       "      <td>False</td>\n",
       "      <td>False</td>\n",
       "      <td>False</td>\n",
       "    </tr>\n",
       "    <tr>\n",
       "      <th>4998</th>\n",
       "      <td>CUST5998</td>\n",
       "      <td>Customer_4998</td>\n",
       "      <td>68</td>\n",
       "      <td>East</td>\n",
       "      <td>354.23</td>\n",
       "      <td>2024-07-12</td>\n",
       "      <td>782</td>\n",
       "      <td>2</td>\n",
       "      <td>2024</td>\n",
       "      <td>7</td>\n",
       "      <td>...</td>\n",
       "      <td>0.702503</td>\n",
       "      <td>True</td>\n",
       "      <td>False</td>\n",
       "      <td>True</td>\n",
       "      <td>False</td>\n",
       "      <td>False</td>\n",
       "      <td>False</td>\n",
       "      <td>True</td>\n",
       "      <td>False</td>\n",
       "      <td>False</td>\n",
       "    </tr>\n",
       "    <tr>\n",
       "      <th>4999</th>\n",
       "      <td>CUST5999</td>\n",
       "      <td>Customer_4999</td>\n",
       "      <td>36</td>\n",
       "      <td>West</td>\n",
       "      <td>467.89</td>\n",
       "      <td>2024-07-28</td>\n",
       "      <td>105</td>\n",
       "      <td>43</td>\n",
       "      <td>2024</td>\n",
       "      <td>7</td>\n",
       "      <td>...</td>\n",
       "      <td>0.934595</td>\n",
       "      <td>False</td>\n",
       "      <td>True</td>\n",
       "      <td>False</td>\n",
       "      <td>False</td>\n",
       "      <td>False</td>\n",
       "      <td>True</td>\n",
       "      <td>False</td>\n",
       "      <td>False</td>\n",
       "      <td>False</td>\n",
       "    </tr>\n",
       "  </tbody>\n",
       "</table>\n",
       "<p>5000 rows × 21 columns</p>\n",
       "</div>"
      ],
      "text/plain": [
       "     customer_id           name  age location  purchase_amount purchase_date  \\\n",
       "0       CUST1000     Customer_0   64    North           301.40    2024-12-01   \n",
       "1       CUST1001     Customer_1   37     East           150.69    2024-12-24   \n",
       "2       CUST1002     Customer_2   27     East           449.15    2024-09-13   \n",
       "3       CUST1003     Customer_3   36     East           356.97    2024-01-02   \n",
       "4       CUST1004     Customer_4   59     East           257.52    2024-08-30   \n",
       "...          ...            ...  ...      ...              ...           ...   \n",
       "4995    CUST5995  Customer_4995   66    South           238.14    2024-09-12   \n",
       "4996    CUST5996  Customer_4996   44    South           311.76    2024-05-03   \n",
       "4997    CUST5997  Customer_4997   42    North            59.09    2024-07-20   \n",
       "4998    CUST5998  Customer_4998   68     East           354.23    2024-07-12   \n",
       "4999    CUST5999  Customer_4999   36     West           467.89    2024-07-28   \n",
       "\n",
       "      loyalty_points  website_visits  purchase_year  purchase_month  ...  \\\n",
       "0                271              39           2024              12  ...   \n",
       "1                503              10           2024              12  ...   \n",
       "2                482              42           2024               9  ...   \n",
       "3                412              49           2024               1  ...   \n",
       "4                136              40           2024               8  ...   \n",
       "...              ...             ...            ...             ...  ...   \n",
       "4995             357              13           2024               9  ...   \n",
       "4996             229               4           2024               5  ...   \n",
       "4997             262              46           2024               7  ...   \n",
       "4998             782               2           2024               7  ...   \n",
       "4999             105              43           2024               7  ...   \n",
       "\n",
       "     purchase_amount_normalized  gender_Male  \\\n",
       "0                      0.594626         True   \n",
       "1                      0.286878         True   \n",
       "2                      0.896329         True   \n",
       "3                      0.708099         True   \n",
       "4                      0.505023        False   \n",
       "...                         ...          ...   \n",
       "4995                   0.465450        False   \n",
       "4996                   0.615780        False   \n",
       "4997                   0.099833        False   \n",
       "4998                   0.702503         True   \n",
       "4999                   0.934595        False   \n",
       "\n",
       "      preferred_payment_method_Credit Card  \\\n",
       "0                                    False   \n",
       "1                                    False   \n",
       "2                                    False   \n",
       "3                                    False   \n",
       "4                                    False   \n",
       "...                                    ...   \n",
       "4995                                  True   \n",
       "4996                                 False   \n",
       "4997                                 False   \n",
       "4998                                 False   \n",
       "4999                                  True   \n",
       "\n",
       "      preferred_payment_method_Debit Card  \\\n",
       "0                                    True   \n",
       "1                                   False   \n",
       "2                                   False   \n",
       "3                                   False   \n",
       "4                                    True   \n",
       "...                                   ...   \n",
       "4995                                False   \n",
       "4996                                 True   \n",
       "4997                                False   \n",
       "4998                                 True   \n",
       "4999                                False   \n",
       "\n",
       "      preferred_payment_method_Net Banking  preferred_payment_method_UPI  \\\n",
       "0                                    False                         False   \n",
       "1                                     True                         False   \n",
       "2                                    False                          True   \n",
       "3                                    False                         False   \n",
       "4                                    False                         False   \n",
       "...                                    ...                           ...   \n",
       "4995                                 False                         False   \n",
       "4996                                 False                         False   \n",
       "4997                                 False                         False   \n",
       "4998                                 False                         False   \n",
       "4999                                 False                         False   \n",
       "\n",
       "      product_category_Electronics  product_category_Fashion  \\\n",
       "0                            False                     False   \n",
       "1                             True                     False   \n",
       "2                            False                      True   \n",
       "3                            False                     False   \n",
       "4                            False                     False   \n",
       "...                            ...                       ...   \n",
       "4995                         False                     False   \n",
       "4996                         False                     False   \n",
       "4997                         False                     False   \n",
       "4998                         False                      True   \n",
       "4999                          True                     False   \n",
       "\n",
       "      product_category_Home  product_category_Toys  \n",
       "0                     False                   True  \n",
       "1                     False                  False  \n",
       "2                     False                  False  \n",
       "3                     False                  False  \n",
       "4                     False                   True  \n",
       "...                     ...                    ...  \n",
       "4995                  False                  False  \n",
       "4996                  False                   True  \n",
       "4997                  False                  False  \n",
       "4998                  False                  False  \n",
       "4999                  False                  False  \n",
       "\n",
       "[5000 rows x 21 columns]"
      ]
     },
     "execution_count": 100,
     "metadata": {},
     "output_type": "execute_result"
    }
   ],
   "source": [
    "df"
   ]
  },
  {
   "cell_type": "code",
   "execution_count": 101,
   "id": "a12a2b30-5060-4124-bd93-edd8d7ea231f",
   "metadata": {},
   "outputs": [
    {
     "data": {
      "text/plain": [
       "Index(['customer_id', 'name', 'age', 'location', 'purchase_amount',\n",
       "       'purchase_date', 'loyalty_points', 'website_visits', 'purchase_year',\n",
       "       'purchase_month', 'age_group', 'purchase_amount_normalized',\n",
       "       'gender_Male', 'preferred_payment_method_Credit Card',\n",
       "       'preferred_payment_method_Debit Card',\n",
       "       'preferred_payment_method_Net Banking', 'preferred_payment_method_UPI',\n",
       "       'product_category_Electronics', 'product_category_Fashion',\n",
       "       'product_category_Home', 'product_category_Toys'],\n",
       "      dtype='object')"
      ]
     },
     "execution_count": 101,
     "metadata": {},
     "output_type": "execute_result"
    }
   ],
   "source": [
    "df.columns"
   ]
  },
  {
   "cell_type": "code",
   "execution_count": 102,
   "id": "a04fe7dd-177e-4300-9240-150b2370a56e",
   "metadata": {},
   "outputs": [
    {
     "name": "stdout",
     "output_type": "stream",
     "text": [
      "Defaulting to user installation because normal site-packages is not writeable\n",
      "Requirement already satisfied: openpyxl in c:\\programdata\\anaconda3\\lib\\site-packages (3.0.10)\n",
      "Requirement already satisfied: et_xmlfile in c:\\programdata\\anaconda3\\lib\\site-packages (from openpyxl) (1.1.0)\n",
      "Note: you may need to restart the kernel to use updated packages.\n"
     ]
    }
   ],
   "source": [
    "pip install openpyxl\n"
   ]
  },
  {
   "cell_type": "code",
   "execution_count": 103,
   "id": "9507a363-2ba2-44c8-971c-6f3094b17d12",
   "metadata": {},
   "outputs": [
    {
     "name": "stdout",
     "output_type": "stream",
     "text": [
      "Dataset successfully saved as Cleaned_Dataset.xlsx\n"
     ]
    }
   ],
   "source": [
    "# Save the DataFrame as an Excel file\n",
    "file_path = 'Cleaned_Dataset.xlsx'  # Name of the Excel file\n",
    "df.to_excel(file_path, index=False, engine='openpyxl')  # Save without the index\n",
    "\n",
    "print(f\"Dataset successfully saved as {file_path}\")\n"
   ]
  },
  {
   "cell_type": "code",
   "execution_count": null,
   "id": "3cc46995-4584-4b26-aeb5-f81bc34a476d",
   "metadata": {},
   "outputs": [],
   "source": []
  }
 ],
 "metadata": {
  "kernelspec": {
   "display_name": "Python 3 (ipykernel)",
   "language": "python",
   "name": "python3"
  },
  "language_info": {
   "codemirror_mode": {
    "name": "ipython",
    "version": 3
   },
   "file_extension": ".py",
   "mimetype": "text/x-python",
   "name": "python",
   "nbconvert_exporter": "python",
   "pygments_lexer": "ipython3",
   "version": "3.11.7"
  }
 },
 "nbformat": 4,
 "nbformat_minor": 5
}
